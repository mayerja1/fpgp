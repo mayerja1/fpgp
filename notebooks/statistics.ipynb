{
 "cells": [
  {
   "cell_type": "markdown",
   "metadata": {},
   "source": [
    "# This notebook was used to generate data for experiment 2"
   ]
  },
  {
   "cell_type": "code",
   "execution_count": 1,
   "metadata": {},
   "outputs": [],
   "source": [
    "import numpy as np\n",
    "import pandas as pd\n",
    "import pickle\n",
    "import matplotlib.pyplot as plt\n",
    "import os\n",
    "from itertools import product\n",
    "from collections import defaultdict\n",
    "import sys\n",
    "sys.path.append('../fpgp')\n",
    "import utils\n",
    "from plotting_tools import names_to_latex"
   ]
  },
  {
   "cell_type": "code",
   "execution_count": 16,
   "metadata": {},
   "outputs": [],
   "source": [
    "base_dir = '../data'\n",
    "dirs, thresholds = ('001_fitness/f1', '05_fitness/f2', '15_fitness/f3', '0025_fitness/f4', '0025_fitness/f5', '15_fitness/yachts'), \\\n",
    "                  (0.01, 0.5, 1.5, 0.025, 0.025, 1.5)\n",
    "#dirs, thresholds = ('05_fitness/f2', ), \\\n",
    "                 # (0.5,)"
   ]
  },
  {
   "cell_type": "code",
   "execution_count": 42,
   "metadata": {},
   "outputs": [
    {
     "name": "stderr",
     "output_type": "stream",
     "text": [
      "/usr/local/lib/python3.7/dist-packages/numpy/core/fromnumeric.py:3257: RuntimeWarning: Mean of empty slice.\n",
      "  out=out, **kwargs)\n",
      "/usr/local/lib/python3.7/dist-packages/numpy/core/_methods.py:161: RuntimeWarning: invalid value encountered in double_scalars\n",
      "  ret = ret.dtype.type(ret / rcount)\n"
     ]
    }
   ],
   "source": [
    "stats = defaultdict(dict)\n",
    "for d, t in zip(dirs, thresholds):\n",
    "    dir_ = os.path.join(base_dir, d)\n",
    "    logs, names = utils.get_results(dir_)\n",
    "    for ll, name in zip(logs, names):\n",
    "        f = utils.get_attributes_from_logs(ll, 'test_set_f')\n",
    "        times = utils.get_attributes_from_logs(ll, 'time')\n",
    "        evals = utils.get_attributes_from_logs(ll, 'evals')\n",
    "        gens = utils.get_attributes_from_logs(ll, 'gen')\n",
    "        success_rate = np.sum(f <= t) / len(f)\n",
    "        median_evals = np.median(evals[f <= t])\n",
    "        stats[name][d] = {\n",
    "            'success_rate': success_rate,\n",
    "            'median_gens': np.median(gens[f <= t]),\n",
    "            'median_evals': np.median(evals[f <= t]),\n",
    "            'median_time': np.median(times[f <= t]),\n",
    "            'mean_gens': np.mean(gens[f <= t]),\n",
    "            'mean_evals': np.mean(evals[f <= t]),\n",
    "            'mean_time': np.mean(times[f <= t]),\n",
    "            'mean_evals_fail': np.mean(evals[f > t]) if success_rate < 1 else 0,\n",
    "            'fitnesses': f\n",
    "        }"
   ]
  },
  {
   "cell_type": "code",
   "execution_count": 18,
   "metadata": {},
   "outputs": [],
   "source": [
    "for alg, data in stats.items():\n",
    "    for k, test in data.items():\n",
    "        n = 1 / test['success_rate']\n",
    "        test['expected_time'] = (n - 1)*300 + test['mean_time']\n",
    "        if np.isnan(test['mean_evals_fail']):\n",
    "            test['mean_evals_fail'] = 0\n",
    "        test['expected_evals'] = (n - 1) * test['mean_evals_fail'] + test['mean_evals']"
   ]
  },
  {
   "cell_type": "code",
   "execution_count": 21,
   "metadata": {},
   "outputs": [],
   "source": [
    "with open('stats.p', 'wb') as f:\n",
    "    pickle.dump(stats, f)\n",
    "del stats"
   ]
  },
  {
   "cell_type": "code",
   "execution_count": 2,
   "metadata": {},
   "outputs": [],
   "source": [
    "with open('stats.p', 'rb') as f:\n",
    "    stats = pickle.load(f)"
   ]
  },
  {
   "cell_type": "code",
   "execution_count": 19,
   "metadata": {},
   "outputs": [],
   "source": [
    "def normalize(stats_, max_, new_keys=None):\n",
    "    if new_keys is None:\n",
    "        new_keys = [s + '_normalized' for s in stats_]\n",
    "    for s, m, k_ in zip(stats_, max_, new_keys):\n",
    "        for alg, data in stats.items():\n",
    "            for k, test in data.items():\n",
    "                best = -np.inf if m else np.inf\n",
    "                best_func = max if m else min\n",
    "                for alg_, data_ in stats.items():\n",
    "                    best = best_func(best, data_[k][s])\n",
    "                best\n",
    "                test[k_] =  test[s] / best if m else best / test[s]"
   ]
  },
  {
   "cell_type": "code",
   "execution_count": 20,
   "metadata": {},
   "outputs": [],
   "source": [
    "normalize(['expected_time', 'expected_evals'], [False, False])"
   ]
  },
  {
   "cell_type": "code",
   "execution_count": 4,
   "metadata": {},
   "outputs": [],
   "source": [
    "def autolabel(rects):\n",
    "    \"\"\"\n",
    "    Attach a text label above each bar displaying its height\n",
    "    \"\"\"\n",
    "    for rect in rects:\n",
    "        height = rect.get_height()\n",
    "        plt.text(rect.get_x() + rect.get_width()/2., 1.05*height,\n",
    "                '{:.2}'.format(height),\n",
    "                ha='center', va='bottom')"
   ]
  },
  {
   "cell_type": "code",
   "execution_count": 15,
   "metadata": {},
   "outputs": [
    {
     "data": {
      "image/png": "[encoded data removed]",
      "text/plain": [
       "<Figure size 432x288 with 1 Axes>"
      ]
     },
     "metadata": {
      "needs_background": "light"
     },
     "output_type": "display_data"
    }
   ],
   "source": [
    "from matplotlib.ticker import StrMethodFormatter\n",
    "#plt.gca().yaxis.set_major_formatter(StrMethodFormatter('{x:,.1e}')) # 2 decimal places\n",
    "ticks = []\n",
    "heights = []\n",
    "errors = []\n",
    "for k, s in stats.items():\n",
    "    ticks.append(k)\n",
    "    heights.append(np.median([ss['expected_evals_normalized'] for _, ss in s.items()]))\n",
    "    errors.append(np.std([ss['expected_evals_normalized'] for _, ss in s.items()]))\n",
    "ticks[0], ticks[1] = ticks[1], ticks[0]\n",
    "heights[0], heights[1] = heights[1], heights[0]\n",
    "errors[0], errors[1] = errors[1], errors[0]\n",
    "rects = plt.bar(names_to_latex(ticks), heights)\n",
    "autolabel(rects)\n",
    "plt.ylim(0, 1.15)\n",
    "plt.savefig('score_evals_med.pdf')\n",
    "plt.show()"
   ]
  },
  {
   "cell_type": "code",
   "execution_count": 12,
   "metadata": {},
   "outputs": [],
   "source": [
    "methods = ['exact', 'SLcoev', 'DScoev', 'my2', 'static', 'dynamic']\n",
    "stats_ = ['success_rate']\n",
    "functions = ['001_fitness/f1', '05_fitness/f2', '15_fitness/f3', '0025_fitness/f4', '0025_fitness/f5', '15_fitness/yachts']\n",
    "idxs = pd.MultiIndex.from_product([stats_, names_to_latex(methods)])\n",
    "table = np.zeros((len(methods) * len(stats_), len(functions)))\n",
    "for (i, method), (j, func), (k, stat) in product(enumerate(methods), enumerate(functions), enumerate(stats_)):\n",
    "    table[i + k*len(methods)][j] = stats[method][func][stat]\n",
    "df1 = pd.DataFrame(table, index=idxs, columns=[os.path.basename(f) for f in functions])"
   ]
  },
  {
   "cell_type": "code",
   "execution_count": 13,
   "metadata": {},
   "outputs": [],
   "source": [
    "methods = ['exact', 'SLcoev', 'DScoev', 'my2', 'static', 'dynamic']\n",
    "stats_ = ['mean_time']\n",
    "functions = ['001_fitness/f1', '05_fitness/f2', '15_fitness/f3', '0025_fitness/f4', '0025_fitness/f5', '15_fitness/yachts']\n",
    "idxs = pd.MultiIndex.from_product([stats_, names_to_latex(methods)])\n",
    "table = np.zeros((len(methods) * len(stats_), len(functions)))\n",
    "for (i, method), (j, func), (k, stat) in product(enumerate(methods), enumerate(functions), enumerate(stats_)):\n",
    "    table[i + k*len(methods)][j] = stats[method][func][stat]\n",
    "df2 = pd.DataFrame(table, index=idxs, columns=[os.path.basename(f) for f in functions])"
   ]
  },
  {
   "cell_type": "code",
   "execution_count": 14,
   "metadata": {},
   "outputs": [],
   "source": [
    "methods = ['exact', 'SLcoev', 'DScoev', 'my2', 'static', 'dynamic']\n",
    "stats_ = ['mean_evals']\n",
    "functions = ['001_fitness/f1', '05_fitness/f2', '15_fitness/f3', '0025_fitness/f4', '0025_fitness/f5', '15_fitness/yachts']\n",
    "idxs = pd.MultiIndex.from_product([stats_, names_to_latex(methods)])\n",
    "table = np.zeros((len(methods) * len(stats_), len(functions)))\n",
    "for (i, method), (j, func), (k, stat) in product(enumerate(methods), enumerate(functions), enumerate(stats_)):\n",
    "    table[i + k*len(methods)][j] = stats[method][func][stat]\n",
    "df3 = pd.DataFrame(table, index=idxs, columns=[os.path.basename(f) for f in functions])"
   ]
  },
  {
   "cell_type": "code",
   "execution_count": 15,
   "metadata": {},
   "outputs": [],
   "source": [
    "methods = ['exact', 'SLcoev', 'DScoev', 'my2', 'static', 'dynamic']\n",
    "stats_ = ['expected_time']\n",
    "functions = ['001_fitness/f1', '05_fitness/f2', '15_fitness/f3', '0025_fitness/f4', '0025_fitness/f5', '15_fitness/yachts']\n",
    "idxs = pd.MultiIndex.from_product([stats_, names_to_latex(methods)])\n",
    "table = np.zeros((len(methods) * len(stats_), len(functions)))\n",
    "for (i, method), (j, func), (k, stat) in product(enumerate(methods), enumerate(functions), enumerate(stats_)):\n",
    "    table[i + k*len(methods)][j] = stats[method][func][stat]\n",
    "df4 = pd.DataFrame(table, index=idxs, columns=[os.path.basename(f) for f in functions])"
   ]
  },
  {
   "cell_type": "code",
   "execution_count": 16,
   "metadata": {},
   "outputs": [],
   "source": [
    "methods = ['exact', 'SLcoev', 'DScoev', 'my2', 'static', 'dynamic']\n",
    "stats_ = ['expected_evals']\n",
    "functions = ['001_fitness/f1', '05_fitness/f2', '15_fitness/f3', '0025_fitness/f4', '0025_fitness/f5', '15_fitness/yachts']\n",
    "idxs = pd.MultiIndex.from_product([stats_, names_to_latex(methods)])\n",
    "table = np.zeros((len(methods) * len(stats_), len(functions)))\n",
    "for (i, method), (j, func), (k, stat) in product(enumerate(methods), enumerate(functions), enumerate(stats_)):\n",
    "    table[i + k*len(methods)][j] = stats[method][func][stat]\n",
    "df5 = pd.DataFrame(table, index=idxs, columns=[os.path.basename(f) for f in functions])"
   ]
  },
  {
   "cell_type": "code",
   "execution_count": 30,
   "metadata": {},
   "outputs": [],
   "source": [
    "methods = ['exact', 'SLcoev', 'DScoev', 'my2', 'static', 'dynamic']\n",
    "stats_ = ['expected_evals_normalized']\n",
    "functions = ['001_fitness/f1', '05_fitness/f2', '15_fitness/f3', '0025_fitness/f4', '0025_fitness/f5', '15_fitness/yachts']\n",
    "idxs = pd.MultiIndex.from_product([stats_, names_to_latex(methods)])\n",
    "table = np.zeros((len(methods) * len(stats_), len(functions)))\n",
    "for (i, method), (j, func), (k, stat) in product(enumerate(methods), enumerate(functions), enumerate(stats_)):\n",
    "    table[i + k*len(methods)][j] = stats[method][func][stat]\n",
    "df6 = pd.DataFrame(table, index=idxs, columns=[os.path.basename(f) for f in functions])"
   ]
  },
  {
   "cell_type": "code",
   "execution_count": 31,
   "metadata": {},
   "outputs": [
    {
     "data": {
      "text/html": [
       "<div>\n",
       "<style scoped>\n",
       "    .dataframe tbody tr th:only-of-type {\n",
       "        vertical-align: middle;\n",
       "    }\n",
       "\n",
       "    .dataframe tbody tr th {\n",
       "        vertical-align: top;\n",
       "    }\n",
       "\n",
       "    .dataframe thead th {\n",
       "        text-align: right;\n",
       "    }\n",
       "</style>\n",
       "<table border=\"1\" class=\"dataframe\">\n",
       "  <thead>\n",
       "    <tr style=\"text-align: right;\">\n",
       "      <th></th>\n",
       "      <th></th>\n",
       "      <th>f1</th>\n",
       "      <th>f2</th>\n",
       "      <th>f3</th>\n",
       "      <th>f4</th>\n",
       "      <th>f5</th>\n",
       "      <th>yachts</th>\n",
       "    </tr>\n",
       "  </thead>\n",
       "  <tbody>\n",
       "    <tr>\n",
       "      <th rowspan=\"6\" valign=\"top\">expected_evals_normalized</th>\n",
       "      <th>$GP_{std}$</th>\n",
       "      <td>0.024697</td>\n",
       "      <td>0.191466</td>\n",
       "      <td>0.275484</td>\n",
       "      <td>0.123931</td>\n",
       "      <td>0.063718</td>\n",
       "      <td>0.911869</td>\n",
       "    </tr>\n",
       "    <tr>\n",
       "      <th>$CSP$</th>\n",
       "      <td>0.073040</td>\n",
       "      <td>0.978091</td>\n",
       "      <td>0.691017</td>\n",
       "      <td>0.825469</td>\n",
       "      <td>0.795346</td>\n",
       "      <td>0.178502</td>\n",
       "    </tr>\n",
       "    <tr>\n",
       "      <th>$ASP$</th>\n",
       "      <td>0.139640</td>\n",
       "      <td>1.000000</td>\n",
       "      <td>1.000000</td>\n",
       "      <td>1.000000</td>\n",
       "      <td>1.000000</td>\n",
       "      <td>1.000000</td>\n",
       "    </tr>\n",
       "    <tr>\n",
       "      <th>$DP$</th>\n",
       "      <td>1.000000</td>\n",
       "      <td>0.281406</td>\n",
       "      <td>0.445402</td>\n",
       "      <td>0.392165</td>\n",
       "      <td>0.747088</td>\n",
       "      <td>0.427760</td>\n",
       "    </tr>\n",
       "    <tr>\n",
       "      <th>$RP_{static}$</th>\n",
       "      <td>0.053532</td>\n",
       "      <td>0.394661</td>\n",
       "      <td>0.324146</td>\n",
       "      <td>0.351722</td>\n",
       "      <td>0.794358</td>\n",
       "      <td>0.223147</td>\n",
       "    </tr>\n",
       "    <tr>\n",
       "      <th>$RP_{dynamic}$</th>\n",
       "      <td>0.085939</td>\n",
       "      <td>0.117629</td>\n",
       "      <td>0.427291</td>\n",
       "      <td>0.451223</td>\n",
       "      <td>0.336282</td>\n",
       "      <td>0.376385</td>\n",
       "    </tr>\n",
       "  </tbody>\n",
       "</table>\n",
       "</div>"
      ],
      "text/plain": [
       "                                                f1        f2        f3  \\\n",
       "expected_evals_normalized $GP_{std}$      0.024697  0.191466  0.275484   \n",
       "                          $CSP$           0.073040  0.978091  0.691017   \n",
       "                          $ASP$           0.139640  1.000000  1.000000   \n",
       "                          $DP$            1.000000  0.281406  0.445402   \n",
       "                          $RP_{static}$   0.053532  0.394661  0.324146   \n",
       "                          $RP_{dynamic}$  0.085939  0.117629  0.427291   \n",
       "\n",
       "                                                f4        f5    yachts  \n",
       "expected_evals_normalized $GP_{std}$      0.123931  0.063718  0.911869  \n",
       "                          $CSP$           0.825469  0.795346  0.178502  \n",
       "                          $ASP$           1.000000  1.000000  1.000000  \n",
       "                          $DP$            0.392165  0.747088  0.427760  \n",
       "                          $RP_{static}$   0.351722  0.794358  0.223147  \n",
       "                          $RP_{dynamic}$  0.451223  0.336282  0.376385  "
      ]
     },
     "execution_count": 31,
     "metadata": {},
     "output_type": "execute_result"
    }
   ],
   "source": [
    "df6"
   ]
  },
  {
   "cell_type": "code",
   "execution_count": 17,
   "metadata": {},
   "outputs": [
    {
     "name": "stdout",
     "output_type": "stream",
     "text": [
      "\\begin{tabular}{llrrrrrr}\n",
      "\\toprule\n",
      "             &                &   f1 &  f2 &  f3 &  f4 &  f5 & yachts \\\\\n",
      "\\midrule\n",
      "\\multirow{6}{*}{success\\_rate} & \\$GP\\_\\{std\\}\\$ &  88\\% & 57\\% & 78\\% & 18\\% &  4\\% &   100\\% \\\\\n",
      "             & \\$CSP\\$ &  88\\% & 76\\% & 78\\% & 46\\% & 20\\% &    17\\% \\\\\n",
      "             & \\$ASP\\$ &  94\\% & 67\\% & 86\\% & 52\\% & 17\\% &    86\\% \\\\\n",
      "             & \\$DP\\$ & 100\\% & 45\\% & 71\\% & 33\\% & 25\\% &    57\\% \\\\\n",
      "             & \\$RP\\_\\{static\\}\\$ &  82\\% & 45\\% & 53\\% & 22\\% & 19\\% &    20\\% \\\\\n",
      "             & \\$RP\\_\\{dynamic\\}\\$ &  92\\% & 31\\% & 78\\% & 39\\% & 11\\% &    39\\% \\\\\n",
      "\\bottomrule\n",
      "\\end{tabular}\n",
      "\n"
     ]
    }
   ],
   "source": [
    "print(df1.to_latex(multirow=True, multicolumn=True, formatters=6*[lambda x: '{:0.0f}%'.format(100*x)]))"
   ]
  },
  {
   "cell_type": "code",
   "execution_count": 18,
   "metadata": {},
   "outputs": [
    {
     "name": "stdout",
     "output_type": "stream",
     "text": [
      "\\begin{tabular}{llrrrrrr}\n",
      "\\toprule\n",
      "          &                &    f1 &     f2 &    f3 &     f4 &     f5 & yachts \\\\\n",
      "\\midrule\n",
      "\\multirow{6}{*}{mean\\_time} & \\$GP\\_\\{std\\}\\$ & 22.95 & 112.52 & 68.90 & 198.72 & 191.84 &  43.83 \\\\\n",
      "          & \\$CSP\\$ &  6.68 &  55.04 & 54.68 & 132.01 & 166.90 &  50.66 \\\\\n",
      "          & \\$ASP\\$ & 10.72 &  24.73 & 63.54 & 193.31 & 144.02 &  76.80 \\\\\n",
      "          & \\$DP\\$ &  2.48 &  60.21 & 71.33 & 172.27 & 164.67 &  78.03 \\\\\n",
      "          & \\$RP\\_\\{static\\}\\$ &  5.86 &  52.82 & 43.61 & 146.75 & 134.43 &  44.36 \\\\\n",
      "          & \\$RP\\_\\{dynamic\\}\\$ &  8.01 &  91.43 & 87.43 & 191.97 & 120.23 & 120.01 \\\\\n",
      "\\bottomrule\n",
      "\\end{tabular}\n",
      "\n"
     ]
    }
   ],
   "source": [
    "print(df2.to_latex(multirow=True, multicolumn=True, formatters=6*[lambda x: '{:0.2f}'.format(x)]))"
   ]
  },
  {
   "cell_type": "code",
   "execution_count": 24,
   "metadata": {},
   "outputs": [
    {
     "name": "stdout",
     "output_type": "stream",
     "text": [
      "\\begin{tabular}{llrrrrrr}\n",
      "\\toprule\n",
      "           &                &                   f1 &                    f2 &                    f3 &                    f4 &                    f5 &               yachts \\\\\n",
      "\\midrule\n",
      "\\multirow{6}{*}{mean\\_evals} & \\$GP\\_\\{std\\}\\$ & \\$5.01 timestenseven\\$ & \\$23.08 timestenseven\\$ & \\$12.82 timestenseven\\$ & \\$33.72 timestenseven\\$ & \\$42.81 timestenseven\\$ & \\$8.60 timestenseven\\$ \\\\\n",
      "           & \\$CSP\\$ & \\$0.82 timestenseven\\$ &  \\$4.98 timestenseven\\$ &  \\$4.53 timestenseven\\$ & \\$10.43 timestenseven\\$ & \\$15.57 timestenseven\\$ & \\$1.79 timestenseven\\$ \\\\\n",
      "           & \\$ASP\\$ & \\$0.88 timestenseven\\$ &  \\$1.84 timestenseven\\$ &  \\$3.95 timestenseven\\$ & \\$12.50 timestenseven\\$ &  \\$8.46 timestenseven\\$ & \\$5.06 timestenseven\\$ \\\\\n",
      "           & \\$DP\\$ & \\$0.26 timestenseven\\$ &  \\$5.85 timestenseven\\$ &  \\$5.81 timestenseven\\$ & \\$15.91 timestenseven\\$ & \\$21.25 timestenseven\\$ & \\$4.71 timestenseven\\$ \\\\\n",
      "           & \\$RP\\_\\{static\\}\\$ & \\$0.72 timestenseven\\$ &  \\$4.46 timestenseven\\$ &  \\$3.77 timestenseven\\$ & \\$10.99 timestenseven\\$ & \\$12.76 timestenseven\\$ & \\$1.33 timestenseven\\$ \\\\\n",
      "           & \\$RP\\_\\{dynamic\\}\\$ & \\$1.23 timestenseven\\$ & \\$13.40 timestenseven\\$ &  \\$8.85 timestenseven\\$ & \\$19.90 timestenseven\\$ & \\$15.22 timestenseven\\$ & \\$4.56 timestenseven\\$ \\\\\n",
      "\\bottomrule\n",
      "\\end{tabular}\n",
      "\n"
     ]
    }
   ],
   "source": [
    "print(df3.to_latex(multirow=True, multicolumn=True, formatters=6*[lambda x: '${:0.2f} timestenseven$'.format(x / 1e6)]))"
   ]
  },
  {
   "cell_type": "code",
   "execution_count": 20,
   "metadata": {},
   "outputs": [
    {
     "name": "stdout",
     "output_type": "stream",
     "text": [
      "\\begin{tabular}{llrrrrrr}\n",
      "\\toprule\n",
      "              &                &    f1 &     f2 &     f3 &      f4 &      f5 &  yachts \\\\\n",
      "\\midrule\n",
      "\\multirow{6}{*}{expected\\_time} & \\$GP\\_\\{std\\}\\$ & 63.86 & 340.11 & 155.74 & 1565.39 & 7391.84 &   43.83 \\\\\n",
      "              & \\$CSP\\$ & 47.59 & 147.35 & 137.18 &  484.18 & 1366.90 & 1483.99 \\\\\n",
      "              & \\$ASP\\$ & 29.87 & 174.73 & 113.54 &  470.24 & 1644.02 &  124.53 \\\\\n",
      "              & \\$DP\\$ &  2.48 & 428.40 & 191.33 &  791.02 & 1064.67 &  303.03 \\\\\n",
      "              & \\$RP\\_\\{static\\}\\$ & 71.71 & 418.04 & 308.99 & 1183.11 & 1401.10 & 1244.36 \\\\\n",
      "              & \\$RP\\_\\{dynamic\\}\\$ & 34.09 & 747.68 & 174.28 &  665.65 & 2640.23 &  593.70 \\\\\n",
      "\\bottomrule\n",
      "\\end{tabular}\n",
      "\n"
     ]
    }
   ],
   "source": [
    "print(df4.to_latex(multirow=True, multicolumn=True, formatters=6*[lambda x: '{:0.2f}'.format(x)]))"
   ]
  },
  {
   "cell_type": "code",
   "execution_count": 23,
   "metadata": {},
   "outputs": [
    {
     "name": "stdout",
     "output_type": "stream",
     "text": [
      "\\begin{tabular}{llrrrrrr}\n",
      "\\toprule\n",
      "               &                &                   f1 &                   f2 &                   f3 &                    f4 &                     f5 &               yachts \\\\\n",
      "\\midrule\n",
      "\\multirow{6}{*}{expected\\_evals} & \\$GP\\_\\{std\\}\\$ & \\$1.05 timestenseven\\$ & \\$5.91 timestenseven\\$ & \\$2.50 timestenseven\\$ & \\$23.14 timestenseven\\$ & \\$154.52 timestenseven\\$ & \\$0.86 timestenseven\\$ \\\\\n",
      "               & \\$CSP\\$ & \\$0.36 timestenseven\\$ & \\$1.16 timestenseven\\$ & \\$1.00 timestenseven\\$ &  \\$3.47 timestenseven\\$ &  \\$12.38 timestenseven\\$ & \\$4.39 timestenseven\\$ \\\\\n",
      "               & \\$ASP\\$ & \\$0.19 timestenseven\\$ & \\$1.13 timestenseven\\$ & \\$0.69 timestenseven\\$ &  \\$2.87 timestenseven\\$ &   \\$9.85 timestenseven\\$ & \\$0.78 timestenseven\\$ \\\\\n",
      "               & \\$DP\\$ & \\$0.03 timestenseven\\$ & \\$4.02 timestenseven\\$ & \\$1.54 timestenseven\\$ &  \\$7.31 timestenseven\\$ &  \\$13.18 timestenseven\\$ & \\$1.83 timestenseven\\$ \\\\\n",
      "               & \\$RP\\_\\{static\\}\\$ & \\$0.49 timestenseven\\$ & \\$2.87 timestenseven\\$ & \\$2.12 timestenseven\\$ &  \\$8.15 timestenseven\\$ &  \\$12.39 timestenseven\\$ & \\$3.51 timestenseven\\$ \\\\\n",
      "               & \\$RP\\_\\{dynamic\\}\\$ & \\$0.30 timestenseven\\$ & \\$9.62 timestenseven\\$ & \\$1.61 timestenseven\\$ &  \\$6.36 timestenseven\\$ &  \\$29.28 timestenseven\\$ & \\$2.08 timestenseven\\$ \\\\\n",
      "\\bottomrule\n",
      "\\end{tabular}\n",
      "\n"
     ]
    }
   ],
   "source": [
    "print(df5.to_latex(multirow=True, multicolumn=True, formatters=6*[lambda x: '${:0.2f} timestenseven$'.format(x / 1e7)]))"
   ]
  }
 ],
 "metadata": {
  "kernelspec": {
   "display_name": "Python 3",
   "language": "python",
   "name": "python3"
  },
  "language_info": {
   "codemirror_mode": {
    "name": "ipython",
    "version": 3
   },
   "file_extension": ".py",
   "mimetype": "text/x-python",
   "name": "python",
   "nbconvert_exporter": "python",
   "pygments_lexer": "ipython3",
   "version": "3.8.2"
  }
 },
 "nbformat": 4,
 "nbformat_minor": 2
}
